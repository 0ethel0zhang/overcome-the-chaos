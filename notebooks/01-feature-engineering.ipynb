{
 "cells": [
  {
   "cell_type": "code",
   "execution_count": null,
   "metadata": {
    "collapsed": false
   },
   "outputs": [],
   "source": [
    "import pandas as pd\n",
    "import os\n",
    "from pathlib import Path\n",
    "proj_dir = Path(os.getcwd()).parent\n",
    "data_fname = proj_dir.joinpath('data', 'interim', 'labeled.pickle')\n",
    "data_fname"
   ]
  },
  {
   "cell_type": "code",
   "execution_count": null,
   "metadata": {
    "collapsed": false
   },
   "outputs": [],
   "source": [
    "dframe = pd.read_pickle(str(data_fname))"
   ]
  },
  {
   "cell_type": "code",
   "execution_count": null,
   "metadata": {
    "collapsed": true
   },
   "outputs": [],
   "source": [
    "enchanced_data = dframe.copy()"
   ]
  },
  {
   "cell_type": "code",
   "execution_count": null,
   "metadata": {
    "collapsed": true
   },
   "outputs": [],
   "source": [
    "enchanced_data['gx01'] = dframe['x0'] * dframe['x1']\n",
    "enchanced_data['gx12'] = dframe['x1'] * dframe['x2']\n",
    "enchanced_data['gx23'] = dframe['x2'] * dframe['x3']\n",
    "enchanced_data['gx30'] = dframe['x3'] * dframe['x0']"
   ]
  },
  {
   "cell_type": "code",
   "execution_count": null,
   "metadata": {
    "collapsed": true
   },
   "outputs": [],
   "source": [
    "def feature_interactions(row):\n",
    "    return pd.Series([\n",
    "        row['x0'] * row['x1'],\n",
    "        row['x1'] * row['x2'],\n",
    "        row['x2'] * row['x3'],\n",
    "        row['x3'] * row['x0']        \n",
    "    ])"
   ]
  },
  {
   "cell_type": "code",
   "execution_count": null,
   "metadata": {
    "collapsed": true
   },
   "outputs": [],
   "source": [
    "engineered_features = dframe.apply(feature_interactions, axis=1)\n",
    "engineered_features.columns = ['gx01', 'gx12', 'gx23', 'gx30']\n",
    "enchanced_data2 = dframe.join(engineered_features)"
   ]
  },
  {
   "cell_type": "code",
   "execution_count": null,
   "metadata": {
    "collapsed": false
   },
   "outputs": [],
   "source": [
    "enchanced_data.equals(enchanced_data2)"
   ]
  }
 ],
 "metadata": {
  "kernelspec": {
   "display_name": "Python 3",
   "language": "python",
   "name": "python3"
  },
  "language_info": {
   "codemirror_mode": {
    "name": "ipython",
    "version": 3
   },
   "file_extension": ".py",
   "mimetype": "text/x-python",
   "name": "python",
   "nbconvert_exporter": "python",
   "pygments_lexer": "ipython3",
   "version": "3.6.0"
  }
 },
 "nbformat": 4,
 "nbformat_minor": 2
}
